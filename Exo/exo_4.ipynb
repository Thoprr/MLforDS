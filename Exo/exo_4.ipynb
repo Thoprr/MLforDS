{
 "cells": [
  {
   "cell_type": "markdown",
   "metadata": {},
   "source": [
    "## Question 2"
   ]
  },
  {
   "cell_type": "code",
   "execution_count": 1,
   "metadata": {},
   "outputs": [
    {
     "name": "stdout",
     "output_type": "stream",
     "text": [
      "Training score: 0.9666666666666667\n",
      "Test score: 1.0\n",
      "Training score with normalized data: 0.9666666666666667\n",
      "Test score with normalized data: 1.0\n",
      "Training score with alpha=1: 0.95\n",
      "Test score with alpha=1: 1.0\n"
     ]
    },
    {
     "name": "stderr",
     "output_type": "stream",
     "text": [
      "/Library/Frameworks/Python.framework/Versions/3.13/lib/python3.13/site-packages/sklearn/neural_network/_multilayer_perceptron.py:690: ConvergenceWarning: Stochastic Optimizer: Maximum iterations (200) reached and the optimization hasn't converged yet.\n",
      "  warnings.warn(\n",
      "/Library/Frameworks/Python.framework/Versions/3.13/lib/python3.13/site-packages/sklearn/neural_network/_multilayer_perceptron.py:690: ConvergenceWarning: Stochastic Optimizer: Maximum iterations (200) reached and the optimization hasn't converged yet.\n",
      "  warnings.warn(\n",
      "/Library/Frameworks/Python.framework/Versions/3.13/lib/python3.13/site-packages/sklearn/neural_network/_multilayer_perceptron.py:690: ConvergenceWarning: Stochastic Optimizer: Maximum iterations (200) reached and the optimization hasn't converged yet.\n",
      "  warnings.warn(\n"
     ]
    }
   ],
   "source": [
    "from sklearn.neural_network import MLPClassifier\n",
    "from sklearn.preprocessing import StandardScaler\n",
    "from sklearn.model_selection import train_test_split\n",
    "from sklearn.datasets import load_iris\n",
    "import numpy as np\n",
    "\n",
    "iris = load_iris()\n",
    "X, y = iris.data, iris.target\n",
    "\n",
    "X_train, X_test, y_train, y_test = train_test_split(X, y, test_size=0.2, random_state=0)\n",
    "\n",
    "mlp = MLPClassifier(random_state=0)\n",
    "mlp.fit(X_train, y_train)\n",
    "\n",
    "train_score = mlp.score(X_train, y_train)\n",
    "test_score = mlp.score(X_test, y_test)\n",
    "\n",
    "print(f\"Training score: {train_score}\")\n",
    "print(f\"Test score: {test_score}\")\n",
    "\n",
    "scaler = StandardScaler()\n",
    "X_train_scaled = scaler.fit_transform(X_train)\n",
    "X_test_scaled = scaler.transform(X_test)\n",
    "\n",
    "mlp_scaled = MLPClassifier(random_state=0)\n",
    "mlp_scaled.fit(X_train_scaled, y_train)\n",
    "\n",
    "train_score_scaled = mlp_scaled.score(X_train_scaled, y_train)\n",
    "test_score_scaled = mlp_scaled.score(X_test_scaled, y_test)\n",
    "\n",
    "print(f\"Training score with normalized data: {train_score_scaled}\")\n",
    "print(f\"Test score with normalized data: {test_score_scaled}\")\n",
    "\n",
    "mlp_alpha = MLPClassifier(random_state=0, alpha=1)\n",
    "mlp_alpha.fit(X_train_scaled, y_train)\n",
    "\n",
    "train_score_alpha = mlp_alpha.score(X_train_scaled, y_train)\n",
    "test_score_alpha = mlp_alpha.score(X_test_scaled, y_test)\n",
    "\n",
    "print(f\"Training score with alpha=1: {train_score_alpha}\")\n",
    "print(f\"Test score with alpha=1: {test_score_alpha}\")\n"
   ]
  }
 ],
 "metadata": {
  "kernelspec": {
   "display_name": "Python 3",
   "language": "python",
   "name": "python3"
  },
  "language_info": {
   "codemirror_mode": {
    "name": "ipython",
    "version": 3
   },
   "file_extension": ".py",
   "mimetype": "text/x-python",
   "name": "python",
   "nbconvert_exporter": "python",
   "pygments_lexer": "ipython3",
   "version": "3.13.0"
  }
 },
 "nbformat": 4,
 "nbformat_minor": 2
}
